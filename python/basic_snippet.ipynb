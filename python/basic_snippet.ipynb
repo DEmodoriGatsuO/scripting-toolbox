{
  "nbformat": 4,
  "nbformat_minor": 0,
  "metadata": {
    "colab": {
      "provenance": [],
      "authorship_tag": "ABX9TyMSpRLhkusDsk8OHbMCR1ka",
      "include_colab_link": true
    },
    "kernelspec": {
      "name": "python3",
      "display_name": "Python 3"
    },
    "language_info": {
      "name": "python"
    }
  },
  "cells": [
    {
      "cell_type": "markdown",
      "metadata": {
        "id": "view-in-github",
        "colab_type": "text"
      },
      "source": [
        "<a href=\"https://colab.research.google.com/github/DEmodoriGatsuO/scripting-toolbox/blob/main/basic_snippet.ipynb\" target=\"_parent\"><img src=\"https://colab.research.google.com/assets/colab-badge.svg\" alt=\"Open In Colab\"/></a>"
      ]
    },
    {
      "cell_type": "markdown",
      "source": [
        "* Copyright (c) 2022, Tech Lovers. All rights reserved\n",
        "* これは私の開発用の再利用テンプレートです。\n",
        "* サンプルコードをもとにしています。"
      ],
      "metadata": {
        "id": "MD0s8IstisV1"
      }
    },
    {
      "cell_type": "code",
      "source": [
        "# the usual phrase used\n",
        "if __name__ == \"__main__\":\n",
        "    pass"
      ],
      "metadata": {
        "id": "CCpXm9_DipXJ"
      },
      "execution_count": null,
      "outputs": []
    },
    {
      "cell_type": "markdown",
      "source": [
        "# os"
      ],
      "metadata": {
        "id": "kK8pQx0BiUrf"
      }
    },
    {
      "cell_type": "code",
      "execution_count": null,
      "metadata": {
        "id": "JkSFW5iYguyI"
      },
      "outputs": [],
      "source": [
        "import os\n",
        "\n",
        "os.path.abspath('path')\n",
        "os.path.dirname('path')"
      ]
    },
    {
      "cell_type": "code",
      "source": [
        "os.mkdir('path')"
      ],
      "metadata": {
        "id": "xO_Ta7PRic-e"
      },
      "execution_count": null,
      "outputs": []
    },
    {
      "cell_type": "code",
      "source": [
        "os.path.basename(__file__)\n",
        "os.path.dirname(__file__)"
      ],
      "metadata": {
        "id": "702SEE1LifZG"
      },
      "execution_count": null,
      "outputs": []
    },
    {
      "cell_type": "code",
      "source": [
        "#%% file list\n",
        "os.listdir('path')"
      ],
      "metadata": {
        "id": "_oXdf1wUig19"
      },
      "execution_count": null,
      "outputs": []
    },
    {
      "cell_type": "markdown",
      "source": [
        "# sys"
      ],
      "metadata": {
        "id": "QNe2k8TZjDox"
      }
    },
    {
      "cell_type": "code",
      "source": [
        "import sys\n",
        "#%% This file\n",
        "sys.argv[0]\n",
        "#%% python.exe path\n",
        "sys.exec_prefix"
      ],
      "metadata": {
        "id": "PlJ7MewwjFUw"
      },
      "execution_count": null,
      "outputs": []
    },
    {
      "cell_type": "markdown",
      "source": [
        "# csv"
      ],
      "metadata": {
        "id": "xEdptzkwjL82"
      }
    },
    {
      "cell_type": "code",
      "source": [
        "#%% read csv\n",
        "import csv\n",
        "with open('path') as f:\n",
        "    reader = csv.reader(f)\n",
        "    l = [row for row in reader]"
      ],
      "metadata": {
        "id": "Gcws5oryjIgu"
      },
      "execution_count": null,
      "outputs": []
    },
    {
      "cell_type": "code",
      "source": [
        "#%% write csv\n",
        "with open('path', 'w', newline='') as f:\n",
        "    writer = csv.writer(f)\n",
        "    #%% row\n",
        "    writer.writerow('row')\n",
        "\n",
        "    #%% rows\n",
        "    writer.writerows('rows')"
      ],
      "metadata": {
        "id": "TWA1B7VWjP2F"
      },
      "execution_count": null,
      "outputs": []
    },
    {
      "cell_type": "markdown",
      "source": [
        "# Text File"
      ],
      "metadata": {
        "id": "s4_HH_JyjSTy"
      }
    },
    {
      "cell_type": "code",
      "source": [
        "#%% text file\n",
        "with open('path', 'w', encoding='UTF-8') as f:\n",
        "    f.write('string-var')"
      ],
      "metadata": {
        "id": "fffNpIRFjVTH"
      },
      "execution_count": null,
      "outputs": []
    },
    {
      "cell_type": "markdown",
      "source": [
        "# datetime"
      ],
      "metadata": {
        "id": "s0EqT4mejYuU"
      }
    },
    {
      "cell_type": "code",
      "source": [
        "import datetime\n",
        "dt_now = datetime.datetime.now()\n",
        "str_dt_now = dt_now.strftime('%Y%m%d%H%M%S')"
      ],
      "metadata": {
        "id": "9cMi0fRqjYB1"
      },
      "execution_count": null,
      "outputs": []
    },
    {
      "cell_type": "markdown",
      "source": [
        "# selenium"
      ],
      "metadata": {
        "id": "fzmcp1_Fjfa5"
      }
    },
    {
      "cell_type": "code",
      "source": [
        "from selenium import webdriver\n",
        "from selenium.webdriver.chrome.options import Options\n",
        "from selenium.webdriver.common.by import By\n",
        "from selenium.webdriver.support.ui import WebDriverWait\n",
        "from webdriver_manager.chrome import ChromeDriverManager\n",
        "\n",
        "# options = webdriver.ChromeOptions()\n",
        "# options.add_experimental_option(\"prefs\", {\n",
        "#     \"download.default_directory\": path,\n",
        "#     \"plugins.always_open_pdf_externally\": True\n",
        "# })\n",
        "\n",
        "driver = webdriver.Chrome(ChromeDriverManager().install())\n",
        "# driver = webdriver.Chrome(ChromeDriverManager().install(),options=options)\n",
        "\n",
        "driver.get('path')"
      ],
      "metadata": {
        "id": "SAM_YRzJjb4d"
      },
      "execution_count": null,
      "outputs": []
    }
  ]
}
